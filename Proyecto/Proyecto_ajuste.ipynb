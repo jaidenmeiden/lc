{
 "cells": [
  {
   "cell_type": "markdown",
   "metadata": {
    "id": "NYAyUNJTZpxp"
   },
   "source": [
    "# EVALUACIÓN DE ETIQUETADORES MORFOSINTÁCTICOS PARA EL ESPAÑOL"
   ]
  },
  {
   "cell_type": "code",
   "execution_count": null,
   "metadata": {
    "colab": {
     "base_uri": "https://localhost:8080/"
    },
    "id": "zemBfsxgZpxt",
    "outputId": "4306bd0a-d6a8-4d2e-ff42-609813aa6992",
    "pycharm": {
     "name": "#%%\n"
    }
   },
   "outputs": [],
   "source": [
    "import nltk\n",
    "from nltk.corpus import cess_esp as cess\n",
    "from nltk.tag import hmm\n",
    "from nltk.tag import tnt\n",
    "from nltk.tag.sequential import AffixTagger\n",
    "from nltk.tag import brill, BigramTagger, BrillTaggerTrainer, CRFTagger, RegexpTagger, UnigramTagger\n",
    "from nltk.tag.perceptron import PerceptronTagger\n",
    "nltk.download('cess_esp')\n",
    "\n",
    "import matplotlib.pyplot as plt\n",
    "\n",
    "import numpy as np\n",
    "from numpy import mean\n",
    "from numpy import std\n",
    "\n",
    "import scipy as sp\n",
    "import scipy.stats\n",
    "\n",
    "import inspect\n",
    "import random\n",
    "import time\n",
    "\n",
    "import sklearn\n",
    "from sklearn import svm\n",
    "from sklearn.model_selection import KFold\n",
    "from sklearn.model_selection import train_test_split\n",
    "from sklearn.model_selection import cross_val_score\n",
    "\n",
    "!pip3 install sklearn_crfsuite\n",
    "!pip install python-crfsuite\n",
    "!pip install pythainlp"
   ]
  },
  {
   "cell_type": "markdown",
   "metadata": {
    "id": "uT9CFCdvZpxu"
   },
   "source": [
    "1.**Objetivos del trabajo:**\n",
    "\n",
    "* Conocer distintas herramientas de etiquetado morfosintáctico del paquete NLTK\n",
    "* Aplicar   la   metodología   de   validación   cruzada   para   entrenar   y   evaluar etiquetadores morfosintácticos.\n",
    "* Construir modelos de etiquetado morfosintáctico para el español a partir de corpus anotados\n",
    "* Comparar las prestaciones de distintos etiquetadores incluyendointervalos de confianza\n",
    "\n",
    "2.**Descripción del trabajo:**\n",
    "\n",
    "El trabajo consiste  en  la  evaluación  de  las  prestaciones  dedistintosetiquetadores  morfosintácticos para uncorpus  del español(cess-esp).  En  esta  experimentación  se  estudiará  cómo  afectan  diversos parámetros  a  las  prestaciones  del  sistema:  el  tamaño  del  corpus  de  entrenamiento,  el  método  de suavizado para las palabras desconocidas, el juego de categorías morfosintácticas utilizado, etc.\n",
    "\n",
    "Además,  se  compararán  las  prestaciones  de  distintos  etiquetadores  morfosintácticos  basados  en distintos paradigmas de aprendizaje.\n",
    "\n",
    "Para ello,se utilizará el paquete NLTKque implementa diferentes etiquetadores morfosintácticos.\n",
    "\n",
    "La evaluación de los etiquetadores se realizará mediante una validación cruzadasobre 10 partidoes del corpus.  Esta metodología consiste en dividir el corpus en 10 partes de similar tamaño, y ejecutar diez  experimentos.\n",
    "\n",
    "En cada ejecución se  toman  9  partes  como  entrenamiento  y  1  como  prueba,  de manera que la parte de prueba siempre sea diferente.\n",
    "\n",
    "La evaluación de las prestaciones del etiquetador es el resultado de calcular la media de la precisión de etiquetado (accuracy) sobre las distintas partidoes.\n",
    "\n",
    "accuracy= número palabras etiquetadas correctamentedel test/ número total de palabrasdel test\n",
    "\n",
    "IMPORTANTE:   Los   resultados   de accuracyobtenidos   deberán   presentarse   siempre   con el correspondiente intervalode confianza\n",
    "\n",
    "## Funciones"
   ]
  },
  {
   "cell_type": "code",
   "execution_count": null,
   "metadata": {
    "id": "HAHrpr-0Zpxu",
    "pycharm": {
     "name": "#%%\n"
    }
   },
   "outputs": [],
   "source": [
    "def label_transform (lista):\n",
    "    for position, item in enumerate(lista):\n",
    "        if item[1].startswith('v') or item[1].startswith('F'):\n",
    "            lista[position] = ( lista[position][0], item[1][:3] ) \n",
    "        else:\n",
    "            lista[position] = ( lista[position][0] , item[1][:2] )\n",
    "    return lista\n",
    "    \n",
    "\n",
    "def eliminarAnotaciones(lista):\n",
    "    for idx,tagged_word in enumerate(lista):\n",
    "        if tagged_word[0] == '*0*' or tagged_word[0] == 'sn':\n",
    "            lista.pop(idx)\n",
    "        else:\n",
    "            pass\n",
    "    \n",
    "    return label_transform(lista)\n",
    "\n",
    "def validacion_cruzada(classificador,train_data,k):\n",
    "    kf = KFold(k,shuffle=True)\n",
    "    scores=[]\n",
    "  \n",
    "    for i,j in kf.split(train_data):\n",
    "        if type(classificador) == type(hmm.HiddenMarkovModelTrainer()):\n",
    "            model = classificador.train_supervised(train_data[i[0]:i[-1]])\n",
    "            scores.append(model.evaluate(train_data[j[0]:j[-1]]))\n",
    "        else:\n",
    "            classificador.train(train_data[i[0]:i[-1]])\n",
    "            scores.append(classificador.evaluate(train_data[j[0]:j[-1]]))\n",
    "    \n",
    "    return scores\n",
    "\n",
    "def mean_confidence_interval(data, confidence=0.95):\n",
    "    a = 1.0*np.array(data)\n",
    "    n = len(a)\n",
    "    m, se = np.mean(a), scipy.stats.sem(a)\n",
    "    h = se * sp.stats.t._ppf((1+confidence)/2., n-1)\n",
    "    return m, m-h, m+h,h"
   ]
  },
  {
   "cell_type": "markdown",
   "metadata": {
    "id": "Y8yR0V6vZpxu"
   },
   "source": [
    "### Corpus"
   ]
  },
  {
   "cell_type": "code",
   "execution_count": null,
   "metadata": {
    "colab": {
     "base_uri": "https://localhost:8080/"
    },
    "id": "dBeRrsE3Zpxv",
    "outputId": "1523d924-7ee5-46d5-ecf4-9f8b448e5922"
   },
   "outputs": [],
   "source": [
    "oraciones_sin_procesar = cess.tagged_sents()\n",
    "oraciones_sin_procesar"
   ]
  },
  {
   "cell_type": "code",
   "execution_count": null,
   "metadata": {
    "colab": {
     "base_uri": "https://localhost:8080/"
    },
    "id": "E_brlZfQZpxv",
    "outputId": "d19457ee-8261-44e5-fc4d-4cd98a9afcd4",
    "pycharm": {
     "name": "#%%\n"
    }
   },
   "outputs": [],
   "source": [
    "oraciones_procesadas = []\n",
    "\n",
    "for i in oraciones_sin_procesar:\n",
    "    procesada = eliminarAnotaciones(i)\n",
    "    oraciones_procesadas.append(procesada)\n",
    "    \n",
    "oraciones_procesadas"
   ]
  },
  {
   "cell_type": "code",
   "execution_count": null,
   "metadata": {
    "id": "ZJw6nNoRZpxv"
   },
   "outputs": [],
   "source": [
    "train_completo, test_completo = train_test_split(oraciones_sin_procesar, test_size=0.10, random_state=42)\n",
    "train_reducido, test_reducido = train_test_split(oraciones_procesadas, test_size=0.10, random_state=42)"
   ]
  },
  {
   "cell_type": "markdown",
   "metadata": {
    "id": "EogYDP_FZpxv"
   },
   "source": [
    "# Tarea 1:\n",
    "\n",
    "#### Evaluación del etiquetador ‘hmm’ sobre el corpus ‘cess-esp’ utilizando el juego de categorías completo y reducido.\n",
    "\n",
    "Utilizando el etiquetador hmm basado en modelos de Markov, se realizará una validación cruzada sobre 10 partidoes del corpus. Barajar el corpus antes de realizar las partidoes. Presentar los resultados en forma de tabla y gráficamente, incluyendo los intervalos de confianza."
   ]
  },
  {
   "cell_type": "code",
   "execution_count": null,
   "metadata": {
    "id": "smZqVapOZpxw",
    "pycharm": {
     "is_executing": true,
     "name": "#%%\n"
    }
   },
   "outputs": [],
   "source": [
    "modelo = hmm.HiddenMarkovModelTrainer()\n",
    "accuracys_completo = validacion_cruzada(modelo, list(oraciones_sin_procesar), k=10)"
   ]
  },
  {
   "cell_type": "code",
   "execution_count": null,
   "metadata": {
    "id": "o2-nHCbBZpxw",
    "pycharm": {
     "is_executing": true
    }
   },
   "outputs": [],
   "source": [
    "accuracys_reducido = validacion_cruzada(modelo, oraciones_procesadas, k=10)"
   ]
  },
  {
   "cell_type": "code",
   "execution_count": null,
   "metadata": {
    "colab": {
     "base_uri": "https://localhost:8080/"
    },
    "id": "wa_fJc8WZpxw",
    "outputId": "89061543-153e-4de2-cd9e-6279d3857b47",
    "pycharm": {
     "is_executing": true
    }
   },
   "outputs": [],
   "source": [
    "print('Completo: ',mean_confidence_interval(accuracys_completo))\n",
    "print('Reducido: ',mean_confidence_interval(accuracys_reducido))"
   ]
  },
  {
   "cell_type": "code",
   "execution_count": null,
   "metadata": {
    "colab": {
     "base_uri": "https://localhost:8080/"
    },
    "id": "eYPj97KphR0t",
    "outputId": "90e2d492-fd58-4d79-fa93-5019f0b027d5",
    "pycharm": {
     "is_executing": true
    }
   },
   "outputs": [],
   "source": [
    "print(accuracys_completo)"
   ]
  },
  {
   "cell_type": "code",
   "execution_count": null,
   "metadata": {
    "colab": {
     "base_uri": "https://localhost:8080/"
    },
    "id": "FgFGPaPkiBBv",
    "outputId": "5c3b2adf-1bd8-45e3-e10c-522af8f5a523",
    "pycharm": {
     "is_executing": true
    }
   },
   "outputs": [],
   "source": [
    "print(accuracys_reducido)"
   ]
  },
  {
   "cell_type": "code",
   "execution_count": null,
   "metadata": {
    "colab": {
     "base_uri": "https://localhost:8080/",
     "height": 151
    },
    "id": "JaxwNeScZpxw",
    "outputId": "c75d2912-82d2-40e8-d835-57e776591bfb",
    "pycharm": {
     "is_executing": true,
     "name": "#%%\n"
    }
   },
   "outputs": [],
   "source": [
    "fig, ax = plt.subplots(figsize=(20,2))\n",
    "\n",
    "fig.patch.set_visible(False)\n",
    "ax.axis('off')\n",
    "ax.axis('tight')\n",
    "\n",
    "ax.table(cellText=np.array( [accuracys_completo, accuracys_reducido ] ).T, colLabels=[\"Precisión completo\",\"Precisión reducido\"], loc='center')\n",
    "\n",
    "fig.tight_layout()\n",
    "\n",
    "plt.show()"
   ]
  },
  {
   "cell_type": "code",
   "execution_count": null,
   "metadata": {
    "id": "U_8KXBCGZpxx",
    "pycharm": {
     "is_executing": true,
     "name": "#%%\n"
    }
   },
   "outputs": [],
   "source": [
    "_, _, _, err_completo = mean_confidence_interval(accuracys_completo[1:])\n",
    "_, _, _, err_reducido = mean_confidence_interval(accuracys_reducido[1:])"
   ]
  },
  {
   "cell_type": "code",
   "execution_count": null,
   "metadata": {
    "colab": {
     "base_uri": "https://localhost:8080/",
     "height": 350
    },
    "id": "efSoIvN5Zpxx",
    "outputId": "33e4693c-85e4-4bab-c7b3-c4727ba5cd71",
    "pycharm": {
     "is_executing": true,
     "name": "#%%\n"
    }
   },
   "outputs": [],
   "source": [
    "plt.figure(figsize=(10,5))\n",
    "plt.errorbar(range(10), accuracys_completo,yerr=err_completo, fmt='o', label='Precisión Completo')\n",
    "plt.errorbar(range(10), accuracys_reducido,yerr=err_reducido, fmt='o', label='Precisión Reducido')\n",
    "plt.ylim(0.97, 1)\n",
    "plt.title('Comparación')\n",
    "plt.xlabel('Particiones')\n",
    "plt.ylabel('Exactitud')\n",
    "plt.legend()\n",
    "plt.show()"
   ]
  },
  {
   "cell_type": "markdown",
   "metadata": {
    "id": "blA1Lx8XZpxx",
    "pycharm": {
     "name": "#%% md\n"
    }
   },
   "source": [
    "# Tarea 2:\n",
    "\n",
    "#### Evaluación de las prestaciones del etiquetador respecto a la cantidad de datos de aprendizaje.\n",
    "\n",
    "Se trata de estudiar cómo varían las prestaciones del etiquetador hmm cuando varía el tamaño del corpus de aprendizaje. Para este experimento se dividirá el corpus de entrenamiento en 10 partes de tamaño similar. La partición 10 se tomará como test, y las 9 partidoes restantes se tomarán como entrenamiento. En cada ejecución, se irá incrementando sucesivamente el tamaño del corpus de entrenamiento, manteniendo fija la partición de test.\n",
    "\n",
    "> **Importante:** Para esta tarea **no es necesario** realizar la validación cruzada."
   ]
  },
  {
   "cell_type": "code",
   "execution_count": null,
   "metadata": {
    "colab": {
     "base_uri": "https://localhost:8080/",
     "height": 503
    },
    "id": "QYZRW64EZpxx",
    "outputId": "4dcf37d0-d9b1-44f6-d51b-14615855c677",
    "pycharm": {
     "is_executing": true,
     "name": "#%%\n"
    }
   },
   "outputs": [],
   "source": [
    "trainers = []\n",
    "\n",
    "acc = []\n",
    "tmp = []\n",
    "\n",
    "kf = KFold(n_splits=10,shuffle=True)\n",
    "for _, j in  kf.split(oraciones_procesadas):\n",
    "    trainers.append(oraciones_procesadas[j[0]:j[-1]])\n",
    "\n",
    "for idx,i in enumerate(trainers[:9]):\n",
    "    tmp += i\n",
    "    model = modelo.train_supervised(tmp)\n",
    "    acc.append(model.evaluate(trainers[-1]))\n",
    "    print(\"Entre 0 y \",len(tmp) - 1,\" Exactitud: \",acc[idx])\n"
   ]
  },
  {
   "cell_type": "code",
   "execution_count": null,
   "metadata": {
    "colab": {
     "base_uri": "https://localhost:8080/",
     "height": 350
    },
    "id": "PFg55EQ6DCoY",
    "outputId": "32fab477-bab2-45b2-df79-eb44b08f9867",
    "pycharm": {
     "is_executing": true
    }
   },
   "outputs": [],
   "source": [
    "plt.figure(figsize=(10,5))\n",
    "plt.plot(range(9), acc, 'o', label='Exactitud')\n",
    "plt.title('Variación')\n",
    "plt.xlabel('Particiones')\n",
    "plt.ylabel('Exactitud')\n",
    "plt.legend()\n",
    "plt.show()"
   ]
  },
  {
   "cell_type": "markdown",
   "metadata": {
    "id": "6GMtlTMrZpxx",
    "pycharm": {
     "name": "#%% md\n"
    }
   },
   "source": [
    "# Tarea 3:\n",
    "\n",
    "#### Evaluación del método de suavizado para palabras desconocidas para el etiquetador tnt.\n",
    "\n",
    "El etiquetador tnt por defecto no incorpora un método de suavizado para las palabras desconocidas. Utiliza un método basado en los sufijos de las palabras para construir un modelo para las palabras desconocidas (Affix Tagger). En base al sufijo de la palabra desconocida le asigna una categoría morfosintáctica. Este método funciona razonablemente bien para el inglés.\n",
    "\n",
    "En concreto, se trata de estudiar diferentes longitudes del sufijo (número de letras que se tienen en cuenta) y estudiar cómo varían las prestaciones del etiquetador. Una vez se haya decidido el sufijo que mejores prestaciones proporciona, incorporarlo como modelo de suavizado al etiquetador tnt y comprobar si aumenta sus prestaciones."
   ]
  },
  {
   "cell_type": "code",
   "execution_count": null,
   "metadata": {
    "id": "JwlY-T_TZpxy",
    "pycharm": {
     "is_executing": true,
     "name": "#%%\n"
    }
   },
   "outputs": [],
   "source": [
    "accuracys = []\n",
    "accuracysSolo = []"
   ]
  },
  {
   "cell_type": "code",
   "execution_count": null,
   "metadata": {
    "colab": {
     "base_uri": "https://localhost:8080/"
    },
    "id": "BcdkjgewZpxy",
    "outputId": "e8c8f78b-2097-47d7-a2e8-f68b30a03e43",
    "pycharm": {
     "is_executing": true,
     "name": "#%%\n"
    }
   },
   "outputs": [],
   "source": [
    "for i in range(-1,-5,-1):\n",
    "    #SIN TNT\n",
    "    affix_tagger = AffixTagger(train=train_reducido,affix_length=i)\n",
    "    evalSolo = affix_tagger.evaluate(test_reducido)\n",
    "    accuracysSolo.append(evalSolo)\n",
    "    print(\"Suavizado Solo con  Affix_Length = \",i,\" Accuracy: \", evalSolo)\n",
    "\n",
    "    #CON TNT\n",
    "    tnt_tagging =  tnt.TnT(unk=affix_tagger,Trained=True)\n",
    "    tnt_tagging.train(train_reducido)\n",
    "    evaluacion = tnt_tagging.evaluate(test_reducido)\n",
    "    accuracys.append(evaluacion)\n",
    "    print(\"TnT Con suavizado Affix_Length = \",i,\" Accuracy: \", evaluacion)"
   ]
  },
  {
   "cell_type": "code",
   "execution_count": null,
   "metadata": {
    "colab": {
     "base_uri": "https://localhost:8080/"
    },
    "id": "QF8haXeHa_So",
    "outputId": "649cb397-73b6-4cb2-d80e-474177682617",
    "pycharm": {
     "is_executing": true
    }
   },
   "outputs": [],
   "source": [
    "print(accuracys)"
   ]
  },
  {
   "cell_type": "code",
   "execution_count": null,
   "metadata": {
    "colab": {
     "base_uri": "https://localhost:8080/"
    },
    "id": "wS4KCM-Sa_4Y",
    "outputId": "5d03757c-5e79-4459-b06e-df6711f47944",
    "pycharm": {
     "is_executing": true,
     "name": "#%%\n"
    }
   },
   "outputs": [],
   "source": [
    "print(accuracysSolo)"
   ]
  },
  {
   "cell_type": "code",
   "execution_count": null,
   "metadata": {
    "colab": {
     "base_uri": "https://localhost:8080/",
     "height": 153
    },
    "id": "moEThfzzZpxy",
    "outputId": "d4ef9739-6f70-4188-ad36-54d3014614d1",
    "pycharm": {
     "is_executing": true,
     "name": "#%%\n"
    }
   },
   "outputs": [],
   "source": [
    "fig, ax = plt.subplots(figsize=(20,2))\n",
    "\n",
    "fig.patch.set_visible(False)\n",
    "ax.axis('off')\n",
    "ax.axis('tight')\n",
    "\n",
    "ax.table(cellText=np.array([range(1,5),accuracys,accuracysSolo]).T, colLabels=[\"Affix Length\",\"Accuracy\",\"Accuracy Affix Solo\"], loc='center')\n",
    "\n",
    "fig.tight_layout()\n",
    "\n",
    "plt.show()"
   ]
  },
  {
   "cell_type": "markdown",
   "metadata": {
    "id": "cl4UmhzTZpxz",
    "pycharm": {
     "name": "#%% md\n"
    }
   },
   "source": [
    "# Tarea 4:\n",
    "\n",
    "#### Evaluación del resto de etiquetadores.\n",
    "\n",
    "Se deberán utilizar otros paradigmas de etiquetado. Como mínimo el etiquetador de Brill y algún otro como, CRF, perceptron. Se deberá realizar una comparativa de prestaciones respecto a los etiquetadores tnt y hmm, utilizando el juego de categorías reducido.\n",
    "\n",
    "Cuando se utilice el etiquetador de Brill, probar con diferentes etiquetados iniciales, por ejemplo probar con Unigram Tagger y con hmm tagger.\n",
    "\n",
    "La comparación puede ser sólo de una partición, si el coste temporal de la validación cruzada requiere mucho tiempo."
   ]
  },
  {
   "cell_type": "code",
   "execution_count": null,
   "metadata": {
    "id": "LKp2rXc2imk6",
    "pycharm": {
     "is_executing": true
    }
   },
   "outputs": [],
   "source": [
    "xlabels = []\n",
    "accuracys = []"
   ]
  },
  {
   "cell_type": "code",
   "execution_count": null,
   "metadata": {
    "pycharm": {
     "is_executing": true,
     "name": "#%%\n"
    }
   },
   "outputs": [],
   "source": [
    "def entrenar_bill(initial_tagger,tagger_name):\n",
    "    brill_tagger = BrillTaggerTrainer(initial_tagger=initial_tagger,templates=brill.brill24())\n",
    "    tagger1 = brill_tagger.train(train_reducido[:1000])\n",
    "    evaluacion = tagger1.evaluate(test_reducido[:1000])\n",
    "    xlabels.append(\"Brill Tagger \"+tagger_name)\n",
    "    accuracys.append(evaluacion)"
   ]
  },
  {
   "cell_type": "code",
   "execution_count": null,
   "metadata": {
    "pycharm": {
     "is_executing": true,
     "name": "#%%\n"
    }
   },
   "outputs": [],
   "source": [
    "# instanciamos y entrenamos brill con el tagger Regexp basado en el ejemplo de uso del mismo.\n",
    "tagger = RegexpTagger([\n",
    "(r'^-?[0-9]+(.[0-9]+)?$', 'CD'),   # cardinal numbers\n",
    "(r'(The|the|A|a|An|an)$', 'AT'),   # articles\n",
    "(r'.*able$', 'JJ'),                # adjectives\n",
    "(r'.*ness$', 'NN'),                # nouns formed from adjectives\n",
    "(r'.*ly$', 'RB'),                  # adverbs\n",
    "(r'.*s$', 'NNS'),                  # plural nouns\n",
    "(r'.*ing$', 'VBG'),                # gerunds\n",
    "(r'.*ed$', 'VBD'),                 # past tense verbs\n",
    "(r'.*', 'NN')                      # nouns (default)\n",
    "])\n",
    "entrenar_bill(tagger,\"RegexpTagger\")"
   ]
  },
  {
   "cell_type": "code",
   "execution_count": null,
   "metadata": {
    "pycharm": {
     "is_executing": true,
     "name": "#%%\n"
    }
   },
   "outputs": [],
   "source": [
    "tagger = UnigramTagger(train_reducido[:1000])\n",
    "tagger.evaluate(test_reducido[:1000])\n",
    "entrenar_bill(tagger,\"UnigramTagger\")"
   ]
  },
  {
   "cell_type": "code",
   "execution_count": null,
   "metadata": {
    "pycharm": {
     "is_executing": true,
     "name": "#%%\n"
    }
   },
   "outputs": [],
   "source": [
    "tagger = BigramTagger(train_reducido[:1000])\n",
    "tagger.evaluate(test_reducido[:1000])\n",
    "entrenar_bill(tagger,\"BigramTagger\")"
   ]
  },
  {
   "cell_type": "code",
   "execution_count": null,
   "metadata": {
    "pycharm": {
     "is_executing": true,
     "name": "#%%\n"
    }
   },
   "outputs": [],
   "source": [
    "ct = CRFTagger()\n",
    "ct.train(train_reducido[:1000],'model.crf.tagger')\n",
    "evaluacion = ct.evaluate(test_reducido[:1000])\n",
    "xlabels.append(\"CRF Tagger\")\n",
    "accuracys.append(evaluacion)"
   ]
  },
  {
   "cell_type": "code",
   "execution_count": null,
   "metadata": {
    "pycharm": {
     "is_executing": true,
     "name": "#%%\n"
    }
   },
   "outputs": [],
   "source": [
    "tagger = PerceptronTagger(load=False)\n",
    "tagger.train(train_reducido[:1000])\n",
    "evaluacion = tagger.evaluate(test_reducido[:1000])\n",
    "xlabels.append(\"Perceptron Tagger\")\n",
    "accuracys.append(evaluacion)"
   ]
  },
  {
   "cell_type": "code",
   "execution_count": null,
   "metadata": {
    "colab": {
     "base_uri": "https://localhost:8080/"
    },
    "id": "H6eNEDzymSCz",
    "outputId": "2d0fb2d7-7965-47b9-b46f-7f84baeee089"
   },
   "outputs": [],
   "source": [
    "print(accuracys)"
   ]
  },
  {
   "cell_type": "code",
   "execution_count": null,
   "metadata": {
    "colab": {
     "base_uri": "https://localhost:8080/"
    },
    "id": "4q2JvuIimSIg",
    "outputId": "71ac39a0-27ed-43f7-8f20-32756aee7347"
   },
   "outputs": [],
   "source": [
    "print(xlabels)"
   ]
  },
  {
   "cell_type": "code",
   "execution_count": null,
   "metadata": {
    "colab": {
     "base_uri": "https://localhost:8080/",
     "height": 153
    },
    "id": "1WMs0tA8mJDE",
    "outputId": "3e895370-9140-46df-9ae4-7a507dd1b1be"
   },
   "outputs": [],
   "source": [
    "fig, ax = plt.subplots(figsize=(20,2))\n",
    "\n",
    "fig.patch.set_visible(False)\n",
    "ax.axis('off')\n",
    "ax.axis('tight')\n",
    "\n",
    "ax.table(cellText=[accuracys], colLabels=xlabels, loc='center')\n",
    "\n",
    "fig.tight_layout()\n",
    "\n",
    "plt.show()"
   ]
  }
 ],
 "metadata": {
  "accelerator": "TPU",
  "colab": {
   "name": "Proyecto_ajuste.ipynb",
   "provenance": []
  },
  "kernelspec": {
   "display_name": "Python 3",
   "language": "python",
   "name": "python3"
  },
  "language_info": {
   "codemirror_mode": {
    "name": "ipython",
    "version": 3
   },
   "file_extension": ".py",
   "mimetype": "text/x-python",
   "name": "python",
   "nbconvert_exporter": "python",
   "pygments_lexer": "ipython3",
   "version": "3.7.2"
  }
 },
 "nbformat": 4,
 "nbformat_minor": 1
}