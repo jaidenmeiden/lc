{
 "cells": [
  {
   "cell_type": "code",
   "execution_count": 9,
   "metadata": {},
   "outputs": [
    {
     "name": "stderr",
     "output_type": "stream",
     "text": [
      "[nltk_data] Downloading package cess_esp to /home/oem/nltk_data...\n",
      "[nltk_data]   Package cess_esp is already up-to-date!\n"
     ]
    }
   ],
   "source": [
    "import nltk\n",
    "nltk.download('cess_esp')\n",
    "from nltk.corpus import cess_esp as cess\n",
    "from nltk import UnigramTagger as ut\n",
    "from nltk import BigramTagger as bt\n",
    "from nltk.tag import hmm\n",
    "from nltk.tag import tnt\n",
    "import random\n",
    "from random import shuffle\n"
   ]
  },
  {
   "cell_type": "code",
   "execution_count": 10,
   "metadata": {},
   "outputs": [
    {
     "name": "stdout",
     "output_type": "stream",
     "text": [
      "Número de oraciones: 6030\n",
      "numero de palabras: 192685\n"
     ]
    }
   ],
   "source": [
    "oraciones=cess.tagged_sents()\n",
    "numero=len(oraciones)\n",
    "print ('Número de oraciones:', numero)\n",
    "palabras=0;\n",
    "for s in range (len(oraciones)):\n",
    "    palabras = palabras + len(oraciones[s])\n",
    "print ('numero de palabras:', palabras)"
   ]
  },
  {
   "cell_type": "code",
   "execution_count": 11,
   "metadata": {},
   "outputs": [],
   "source": [
    "# Funciones"
   ]
  },
  {
   "cell_type": "code",
   "execution_count": 12,
   "metadata": {},
   "outputs": [],
   "source": [
    "def procesar(arreglo):\n",
    "    for pos, palabra in enumerate(arreglo):\n",
    "        if palabra[0] == '*0*' or palabra[0] == 'sn':\n",
    "            arreglo.pop(pos)  \n",
    "    for pos, palabra in enumerate(arreglo):    \n",
    "        if palabra[1].startswith('v') or palabra[1].startswith('F'):\n",
    "            arreglo[pos] = ( arreglo[pos][0], palabra[1][:3] ) \n",
    "        else:\n",
    "            arreglo[pos] = ( arreglo[pos][0] , palabra[1][:2] )\n",
    "    return arreglo\n",
    "\n",
    "def division(arreglo,porcentaje=0):\n",
    "    restante = 1-porcentaje\n",
    "    divide = int(len(arreglo)*restante)\n",
    "    return (arreglo[:divide] ,  arreglo[divide:])\n",
    "\n",
    "def barajar1(entrenamiento, division):\n",
    "    modelo = hmm.HiddenMarkovModelTrainer()\n",
    "    cuenta = len(entrenamiento)\n",
    "    rango = int(cuenta/division)\n",
    "    vector_entrena = []\n",
    "    vector_prueba = []\n",
    "    particiones = []\n",
    "\n",
    "    random.shuffle(entrenamiento)\n",
    "    recorrido = range(0,cuenta,rango)\n",
    "    for i in recorrido:\n",
    "        if i == 0:\n",
    "            vector_entrena = entrenamiento[i+rango:]\n",
    "        elif i < rango and i > 0:\n",
    "            vector_entrena = entrenamiento[:i] + entrenamiento[i+rango:]\n",
    "        else:\n",
    "            pass\n",
    "\n",
    "        vector_prueba = entrenamiento[i:i+rango]\n",
    "\n",
    "        etiquetador = modelo.train_supervised(vector_entrena)\n",
    "        particiones.append(etiquetador.evaluate(vector_prueba))\n",
    "\n",
    "    return particiones\n",
    "\n",
    "def barajar2(entrenamiento, division):\n",
    "    modelo = tnt.TnT()\n",
    "    cuenta = len(entrenamiento)\n",
    "    rango = int(cuenta/division)\n",
    "    vector_prueba = []\n",
    "    vector_entrena = []\n",
    "    particiones = []\n",
    "\n",
    "    random.shuffle(entrenamiento)\n",
    "    recorrido = range(0,cuenta,rango)\n",
    "    for i in recorrido:\n",
    "        if i == 0:\n",
    "            vector_entrena = entrenamiento[i+rango:]\n",
    "        elif i < rango and i > 0:\n",
    "            vector_entrena = entrenamiento[:i] + entrenamiento[i+rango:]\n",
    "        else:\n",
    "            pass\n",
    "    \n",
    "        vector_prueba = entrenamiento[i:i+rango]\n",
    "    \n",
    "        modelo.train(vector_entrena)\n",
    "        particiones.append(modelo.evaluate(vector_prueba))\n",
    "\n",
    "    return particiones"
   ]
  },
  {
   "cell_type": "code",
   "execution_count": 13,
   "metadata": {},
   "outputs": [],
   "source": [
    "# Primer punto"
   ]
  },
  {
   "cell_type": "code",
   "execution_count": 14,
   "metadata": {
    "pycharm": {
     "name": "#%%\n"
    }
   },
   "outputs": [],
   "source": [
    "original = [(u'*0*', u'sn.e-SUJ'), (u'Era', u'vsii3s0'), (u'el',\n",
    "u'da0ms0'), (u'sustituto', u'ncms000'), (u'natural', u'aq0cs0'),\n",
    "(u'de', u'sps00'), (u'Redondo', u'np0000p'), (u',', u'Fc'),\n",
    "(u'pero', u'cc'), (u'las', u'da0fp0'), (u'discrepancias',\n",
    "u'ncfp000'), (u'acabaron', u'vmis3p0'), (u'con', u'sps00'),\n",
    "(u'su', u'dp3cs0'), (u'uni\\xf3n', u'ncfs000'), (u'-', u'Fg'),\n",
    "(u'.', u'Fp')]\n",
    "resultado = original.copy()"
   ]
  },
  {
   "cell_type": "code",
   "execution_count": 15,
   "metadata": {
    "pycharm": {
     "name": "#%%\n"
    }
   },
   "outputs": [
    {
     "name": "stdout",
     "output_type": "stream",
     "text": [
      "Probar bucle:  [('Era', 'vsi'), ('el', 'da'), ('sustituto', 'nc'), ('natural', 'aq'), ('de', 'sp'), ('Redondo', 'np'), (',', 'Fc'), ('pero', 'cc'), ('las', 'da'), ('discrepancias', 'nc'), ('acabaron', 'vmi'), ('con', 'sp'), ('su', 'dp'), ('unión', 'nc'), ('-', 'Fg'), ('.', 'Fp')]\n"
     ]
    }
   ],
   "source": [
    "print(\"Probar bucle: \", procesar(resultado))"
   ]
  },
  {
   "cell_type": "code",
   "execution_count": 17,
   "metadata": {},
   "outputs": [
    {
     "name": "stdout",
     "output_type": "stream",
     "text": [
      "Pruebas:  602\n",
      "Entrenamiento:  5428\n"
     ]
    }
   ],
   "source": [
    "nuevas_oraciones = []\n",
    "for oracion in oraciones:\n",
    "    procesada = procesar(oracion)\n",
    "    nuevas_oraciones.append(procesada)\n",
    "\n",
    "pruebas, entrenamiento = division(nuevas_oraciones, 0.9)\n",
    "\n",
    "print(\"Pruebas: \", len(pruebas))\n",
    "print(\"Entrenamiento: \", len(entrenamiento))"
   ]
  },
  {
   "cell_type": "code",
   "execution_count": 18,
   "metadata": {},
   "outputs": [],
   "source": [
    "# Segundo punto"
   ]
  },
  {
   "cell_type": "code",
   "execution_count": 19,
   "metadata": {
    "pycharm": {
     "name": "#%%\n"
    }
   },
   "outputs": [
    {
     "name": "stdout",
     "output_type": "stream",
     "text": [
      "Precisión hmm:  0.30886931767636333\n"
     ]
    }
   ],
   "source": [
    "entrenador = hmm.HiddenMarkovModelTrainer()\n",
    "etiquetador = entrenador.train_supervised(entrenamiento)\n",
    "print(\"Precisión hmm: \", etiquetador.evaluate(pruebas))"
   ]
  },
  {
   "cell_type": "code",
   "execution_count": 20,
   "metadata": {
    "pycharm": {
     "name": "#%%\n"
    }
   },
   "outputs": [
    {
     "name": "stdout",
     "output_type": "stream",
     "text": [
      "Precisión tnt:  0.8963170536429144\n"
     ]
    }
   ],
   "source": [
    "etiquetando = tnt.TnT() \n",
    "etiquetando.train(entrenamiento) \n",
    "print(\"Precisión tnt: \",  etiquetando.evaluate(pruebas))"
   ]
  },
  {
   "cell_type": "code",
   "execution_count": 21,
   "metadata": {
    "pycharm": {
     "name": "#%%\n"
    }
   },
   "outputs": [],
   "source": [
    "# Tercer punto"
   ]
  },
  {
   "cell_type": "code",
   "execution_count": 23,
   "metadata": {
    "pycharm": {
     "name": "#%%\n"
    }
   },
   "outputs": [
    {
     "name": "stdout",
     "output_type": "stream",
     "text": [
      "[0.31616577799321377, 0.9896040182221703, 0.9899500406645754, 0.9877563704164077, 0.9891159753295441, 0.9898101534542366, 0.9889944671638201, 0.98940953733286, 0.9881519482105777, 0.9886988204779843, 0.9888475836431226]\n"
     ]
    }
   ],
   "source": [
    "grafica1 = barajar1(entrenamiento,10)\n",
    "print(grafica1)"
   ]
  },
  {
   "cell_type": "code",
   "execution_count": 24,
   "metadata": {},
   "outputs": [
    {
     "name": "stdout",
     "output_type": "stream",
     "text": [
      "[0.8943094321462945, 0.9927506090676808, 0.9911049255718262, 0.992016436747872, 0.9922047630739013, 0.992271662763466, 0.9923949708678319, 0.9923100396704303, 0.99216900382444, 0.9930040407695555, 1.0]\n"
     ]
    }
   ],
   "source": [
    "grafica2 = barajar2(entrenamiento,10)\n",
    "print(grafica2)"
   ]
  },
  {
   "cell_type": "code",
   "execution_count": 30,
   "metadata": {
    "pycharm": {
     "name": "#%%\n"
    }
   },
   "outputs": [
    {
     "data": {
      "image/png": "[encoded data removed]",
      "text/plain": [
       "<Figure size 432x288 with 1 Axes>"
      ]
     },
     "metadata": {
      "needs_background": "light"
     },
     "output_type": "display_data"
    }
   ],
   "source": [
    "import matplotlib.pyplot as plt\n",
    "x=[i for i in range(11)]\n",
    "y=grafica1\n",
    "plt.axis([-1, 10, 0, 1.3])\n",
    "plt.ylabel('Precisión')\n",
    "plt.xlabel('Particiones')\n",
    "plt.title('hmm')\n",
    "plt.plot(x,y,'ro')\n",
    "plt.show()"
   ]
  },
  {
   "cell_type": "code",
   "execution_count": 31,
   "metadata": {
    "pycharm": {
     "name": "#%%\n"
    }
   },
   "outputs": [
    {
     "data": {
      "image/png": "[encoded data removed]",
      "text/plain": [
       "<Figure size 432x288 with 1 Axes>"
      ]
     },
     "metadata": {
      "needs_background": "light"
     },
     "output_type": "display_data"
    }
   ],
   "source": [
    "import matplotlib.pyplot as plt\n",
    "x=[i for i in range(11)]\n",
    "y=grafica2\n",
    "plt.axis([-1, 10, 0, 1.3])\n",
    "plt.ylabel('Precisión')\n",
    "plt.xlabel('Particiones')\n",
    "plt.title('tnt')\n",
    "plt.plot(x,y,'ro')\n",
    "plt.show()"
   ]
  },
  {
   "cell_type": "code",
   "execution_count": null,
   "metadata": {
    "pycharm": {
     "name": "#%%\n"
    }
   },
   "outputs": [],
   "source": []
  }
 ],
 "metadata": {
  "kernelspec": {
   "display_name": "Python 3",
   "language": "python",
   "name": "python3"
  },
  "language_info": {
   "codemirror_mode": {
    "name": "ipython",
    "version": 3
   },
   "file_extension": ".py",
   "mimetype": "text/x-python",
   "name": "python",
   "nbconvert_exporter": "python",
   "pygments_lexer": "ipython3",
   "version": "3.7.6"
  }
 },
 "nbformat": 4,
 "nbformat_minor": 1
}