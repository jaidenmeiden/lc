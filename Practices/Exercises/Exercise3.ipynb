{
 "cells": [
  {
   "cell_type": "code",
   "execution_count": 1,
   "outputs": [
    {
     "name": "stderr",
     "output_type": "stream",
     "text": [
      "[nltk_data] Downloading package wordnet to /home/oem/nltk_data...\n",
      "[nltk_data]   Package wordnet is already up-to-date!\n",
      "[nltk_data] Downloading package punkt to /home/oem/nltk_data...\n",
      "[nltk_data]   Package punkt is already up-to-date!\n"
     ]
    }
   ],
   "source": [
    "import nltk\n",
    "nltk.download('wordnet')\n",
    "nltk.download('punkt')\n",
    "from nltk.corpus import wordnet\n",
    "from nltk.tokenize import word_tokenize\n",
    "from itertools import chain"
   ],
   "metadata": {
    "collapsed": false,
    "pycharm": {
     "name": "#%%\n"
    }
   }
  },
  {
   "cell_type": "markdown",
   "source": [
    " # Algoritmo Lesk\n",
    "\n",
    "Inspirado en el algoritmo de [Nurendra Choudhary](https://github.com/Akirato/Lesk-Algorithm/blob/master/leskAlgorithm.py), hecho en Python2"
   ],
   "metadata": {
    "collapsed": false
   }
  },
  {
   "cell_type": "code",
   "execution_count": null,
   "outputs": [],
   "source": [
    "def overlapcontext(synset, sentence):\n",
    "    tokenize = []\n",
    "    tokenize += word_tokenize(synset.definition())\n",
    "    tokenize += chain(*[word_tokenize(eg) for eg in synset.examples()])\n",
    "    return len(set(tokenize).intersection(sentence))"
   ],
   "metadata": {
    "collapsed": false,
    "pycharm": {
     "name": "#%%\n"
    }
   }
  },
  {
   "cell_type": "code",
   "execution_count": 2,
   "outputs": [],
   "source": [
    "def lesk( word, sentence ):\n",
    "    bestsense = None\n",
    "    maxoverlap = 0\n",
    "    word=wordnet.morphy(word) if wordnet.morphy(word) is not None else word\n",
    "    for sense in wordnet.synsets(word):\n",
    "        overlap = overlapcontext(sense, set(sentence.split(' ')))\n",
    "        for h in sense.hyponyms():\n",
    "            overlap += overlapcontext(h, set(sentence.split(' ')))\n",
    "        if overlap > maxoverlap:\n",
    "                maxoverlap = overlap\n",
    "                bestsense = sense\n",
    "    return bestsense\n"
   ],
   "metadata": {
    "collapsed": false,
    "pycharm": {
     "name": "#%%\n"
    }
   }
  },
  {
   "cell_type": "code",
   "execution_count": 5,
   "outputs": [
    {
     "data": {
      "text/plain": "Synset('depository_financial_institution.n.01')"
     },
     "execution_count": 5,
     "metadata": {},
     "output_type": "execute_result"
    }
   ],
   "source": [
    "synset = lesk(\"bank\",\"Yesterday I went to the bank to withdraw the money and the credit card did not work\")\n",
    "print(\"Synset:\",synset)\n",
    "if synset is not None:\n",
    "    print(\"Significado:\",synset.definition())\n",
    "    num=0\n",
    "    print(\"\\nEjemplos:\")\n",
    "    for i in synset.examples():\n",
    "        num=num+1\n",
    "        print(str(num)+'.'+')',i)"
   ],
   "metadata": {
    "collapsed": false,
    "pycharm": {
     "name": "#%%\n"
    }
   }
  },
  {
   "cell_type": "code",
   "execution_count": 5,
   "outputs": [],
   "source": [],
   "metadata": {
    "collapsed": false,
    "pycharm": {
     "name": "#%%\n"
    }
   }
  }
 ],
 "metadata": {
  "kernelspec": {
   "display_name": "Python 3",
   "language": "python",
   "name": "python3"
  },
  "language_info": {
   "codemirror_mode": {
    "name": "ipython",
    "version": 3
   },
   "file_extension": ".py",
   "mimetype": "text/x-python",
   "name": "python",
   "nbconvert_exporter": "python",
   "pygments_lexer": "ipython3",
   "version": "3.7.6"
  }
 },
 "nbformat": 4,
 "nbformat_minor": 1
}